{
  "nbformat": 4,
  "nbformat_minor": 0,
  "metadata": {
    "colab": {
      "name": "17CS02003_Assignment5.ipynb",
      "provenance": [],
      "collapsed_sections": []
    },
    "kernelspec": {
      "display_name": "Python 3",
      "name": "python3"
    }
  },
  "cells": [
    {
      "cell_type": "code",
      "metadata": {
        "id": "1Ar4y0GXNSHx"
      },
      "source": [
        "plag = \"The legal system is made up of civil courts, criminal courts and specialty courts, such as family law courts and bankruptcy courts. Each court has its own jurisdiction, which refers to the cases that the court is allowed to hear. In some instances, a case can only be heard in one type of court. For example, a bankruptcy case must be heard in a bankruptcy court. In other instances, more than one court could potentially have jurisdiction. For example, a federal criminal court and a state criminal court would each have jurisdiction over a crime that is a federal drug offense but that is also a state offense.\"\n",
        "original = \"The legal system is made up of criminal and civil courts and specialty courts like bankruptcy and family law courts. Each court is vested with its own jurisdiction. Jurisdiction refers to the types of cases the court is permitted to rule on. Sometimes, only one type of court can hear a particular case. For instance, bankruptcy cases can be ruled on only in bankruptcy court. In other situations, it is possible for more than one court to have jurisdiction. For instance, both a state and federal criminal court could have authority over a criminal case that is also considered an offense under federal and state drug laws.\""
      ],
      "execution_count": null,
      "outputs": []
    },
    {
      "cell_type": "code",
      "metadata": {
        "colab": {
          "base_uri": "https://localhost:8080/",
          "height": 86
        },
        "id": "OF1ALHZbIWT3",
        "outputId": "f5f98db3-4590-4b30-c2d5-b072ce92e75b"
      },
      "source": [
        "original"
      ],
      "execution_count": null,
      "outputs": [
        {
          "output_type": "execute_result",
          "data": {
            "application/vnd.google.colaboratory.intrinsic+json": {
              "type": "string"
            },
            "text/plain": [
              "'The legal system is made up of criminal and civil courts and specialty courts like bankruptcy and family law courts. Each court is vested with its own jurisdiction. Jurisdiction refers to the types of cases the court is permitted to rule on. Sometimes, only one type of court can hear a particular case. For instance, bankruptcy cases can be ruled on only in bankruptcy court. In other situations, it is possible for more than one court to have jurisdiction. For instance, both a state and federal criminal court could have authority over a criminal case that is also considered an offense under federal and state drug laws.'"
            ]
          },
          "metadata": {
            "tags": []
          },
          "execution_count": 2
        }
      ]
    },
    {
      "cell_type": "code",
      "metadata": {
        "colab": {
          "base_uri": "https://localhost:8080/",
          "height": 86
        },
        "id": "eHD7sFFYIYAb",
        "outputId": "ad2e60e1-2cd0-4eb4-8abc-7e09267e8b61"
      },
      "source": [
        "plag"
      ],
      "execution_count": null,
      "outputs": [
        {
          "output_type": "execute_result",
          "data": {
            "application/vnd.google.colaboratory.intrinsic+json": {
              "type": "string"
            },
            "text/plain": [
              "'The legal system is made up of civil courts, criminal courts and specialty courts, such as family law courts and bankruptcy courts. Each court has its own jurisdiction, which refers to the cases that the court is allowed to hear. In some instances, a case can only be heard in one type of court. For example, a bankruptcy case must be heard in a bankruptcy court. In other instances, more than one court could potentially have jurisdiction. For example, a federal criminal court and a state criminal court would each have jurisdiction over a crime that is a federal drug offense but that is also a state offense.'"
            ]
          },
          "metadata": {
            "tags": []
          },
          "execution_count": 3
        }
      ]
    },
    {
      "cell_type": "code",
      "metadata": {
        "id": "F9fngu7LWGbm"
      },
      "source": [
        "target =\"Gardening in mixed beds is a great way to get the most productivity from a small space. Some investment is required, to purchase materials for the beds themselves, as well as soil and compost. The investment will likely pay-off in terms of increased productivity.\"\n",
        "references =\"If you don’t have a lot of space for a garden, raised beds can be a great option. Gardening in mixed beds is a great way to get the most productivity from a small area. Some investment is required. You’ll need to purchase materials for the raised beds themselves, as well as soil and compost. The investment will pay off, though, in the form of increased productivity.\""
      ],
      "execution_count": null,
      "outputs": []
    },
    {
      "cell_type": "code",
      "metadata": {
        "colab": {
          "base_uri": "https://localhost:8080/",
          "height": 52
        },
        "id": "UOiLV4H6CTAj",
        "outputId": "385f7dd5-6c6c-4f51-985e-0e848a43382e"
      },
      "source": [
        "target"
      ],
      "execution_count": null,
      "outputs": [
        {
          "output_type": "execute_result",
          "data": {
            "application/vnd.google.colaboratory.intrinsic+json": {
              "type": "string"
            },
            "text/plain": [
              "'Gardening in mixed beds is a great way to get the most productivity from a small space. Some investment is required, to purchase materials for the beds themselves, as well as soil and compost. The investment will likely pay-off in terms of increased productivity.'"
            ]
          },
          "metadata": {
            "tags": []
          },
          "execution_count": 5
        }
      ]
    },
    {
      "cell_type": "code",
      "metadata": {
        "colab": {
          "base_uri": "https://localhost:8080/",
          "height": 69
        },
        "id": "3UrjgbSECUWb",
        "outputId": "c487fc92-0a40-4a0e-eef2-9fe184162dd1"
      },
      "source": [
        "references"
      ],
      "execution_count": null,
      "outputs": [
        {
          "output_type": "execute_result",
          "data": {
            "application/vnd.google.colaboratory.intrinsic+json": {
              "type": "string"
            },
            "text/plain": [
              "'If you don’t have a lot of space for a garden, raised beds can be a great option. Gardening in mixed beds is a great way to get the most productivity from a small area. Some investment is required. You’ll need to purchase materials for the raised beds themselves, as well as soil and compost. The investment will pay off, though, in the form of increased productivity.'"
            ]
          },
          "metadata": {
            "tags": []
          },
          "execution_count": 6
        }
      ]
    },
    {
      "cell_type": "code",
      "metadata": {
        "colab": {
          "base_uri": "https://localhost:8080/"
        },
        "id": "oOwWIv_3QyP-",
        "outputId": "85f9c99a-4dc0-46cf-e3ac-5285b16c8699"
      },
      "source": [
        "import nltk\n",
        "import numpy as np\n",
        "nltk.download('punkt')\n",
        "nltk.download('averaged_perceptron_tagger') "
      ],
      "execution_count": null,
      "outputs": [
        {
          "output_type": "stream",
          "text": [
            "[nltk_data] Downloading package punkt to /root/nltk_data...\n",
            "[nltk_data]   Package punkt is already up-to-date!\n",
            "[nltk_data] Downloading package averaged_perceptron_tagger to\n",
            "[nltk_data]     /root/nltk_data...\n",
            "[nltk_data]   Package averaged_perceptron_tagger is already up-to-\n",
            "[nltk_data]       date!\n"
          ],
          "name": "stdout"
        },
        {
          "output_type": "execute_result",
          "data": {
            "text/plain": [
              "True"
            ]
          },
          "metadata": {
            "tags": []
          },
          "execution_count": 7
        }
      ]
    },
    {
      "cell_type": "code",
      "metadata": {
        "id": "J12RDT8jRZZy"
      },
      "source": [
        "def findNouns(str):\n",
        "  is_noun = lambda pos: pos[:2] == 'NN'\n",
        "  # do the nlp stuff\n",
        "  tokenized = nltk.word_tokenize(str)\n",
        "  nouns = [word for (word, pos) in nltk.pos_tag(tokenized) if is_noun(pos)]\n",
        "  return nouns "
      ],
      "execution_count": null,
      "outputs": []
    },
    {
      "cell_type": "code",
      "metadata": {
        "id": "8-dsFp5COn6q"
      },
      "source": [
        "nr,nt=findNouns(target),findNouns(references)"
      ],
      "execution_count": null,
      "outputs": []
    },
    {
      "cell_type": "code",
      "metadata": {
        "colab": {
          "base_uri": "https://localhost:8080/"
        },
        "id": "RtphadooOw_c",
        "outputId": "b7fc3a40-6dde-4079-93b2-946f6c732038"
      },
      "source": [
        "nr,nt"
      ],
      "execution_count": null,
      "outputs": [
        {
          "output_type": "execute_result",
          "data": {
            "text/plain": [
              "(['beds',\n",
              "  'way',\n",
              "  'productivity',\n",
              "  'space',\n",
              "  'investment',\n",
              "  'materials',\n",
              "  'beds',\n",
              "  'soil',\n",
              "  'compost',\n",
              "  'investment',\n",
              "  'terms',\n",
              "  'productivity'],\n",
              " ['t',\n",
              "  'lot',\n",
              "  'space',\n",
              "  'garden',\n",
              "  'beds',\n",
              "  'option',\n",
              "  'Gardening',\n",
              "  'beds',\n",
              "  'way',\n",
              "  'productivity',\n",
              "  'area',\n",
              "  'investment',\n",
              "  'need',\n",
              "  'materials',\n",
              "  'beds',\n",
              "  'soil',\n",
              "  'compost',\n",
              "  'investment',\n",
              "  'form',\n",
              "  'productivity'])"
            ]
          },
          "metadata": {
            "tags": []
          },
          "execution_count": 10
        }
      ]
    },
    {
      "cell_type": "code",
      "metadata": {
        "id": "aY-jyNoATOgK"
      },
      "source": [
        "def sharedWords(list1,list2):\n",
        "  list1s = set(list1)\n",
        "  shared = list1s.intersection(list2)\n",
        "  return shared "
      ],
      "execution_count": null,
      "outputs": []
    },
    {
      "cell_type": "code",
      "metadata": {
        "colab": {
          "base_uri": "https://localhost:8080/"
        },
        "id": "M1O_uRR5O0wF",
        "outputId": "2982170b-c6f2-442d-9ed6-322ee177ae79"
      },
      "source": [
        "shared = sharedWords(nt,nr)\n",
        "print(shared)"
      ],
      "execution_count": null,
      "outputs": [
        {
          "output_type": "stream",
          "text": [
            "{'productivity', 'soil', 'beds', 'compost', 'investment', 'space', 'way', 'materials'}\n"
          ],
          "name": "stdout"
        }
      ]
    },
    {
      "cell_type": "code",
      "metadata": {
        "id": "jV6p7vmgVT42"
      },
      "source": [
        "def findsharedAmount(nt,C):\n",
        "  m=0\n",
        "  for i in nt:\n",
        "    if i in C:\n",
        "      m+= len(i)\n",
        "      #print(i)\n",
        "  return m\n"
      ],
      "execution_count": null,
      "outputs": []
    },
    {
      "cell_type": "code",
      "metadata": {
        "id": "8UcDaG-yO8Nc"
      },
      "source": [
        "mt,mr = findsharedAmount(nt,shared),findsharedAmount(nr,shared)"
      ],
      "execution_count": null,
      "outputs": []
    },
    {
      "cell_type": "code",
      "metadata": {
        "colab": {
          "base_uri": "https://localhost:8080/"
        },
        "id": "hA7onYzQPLNw",
        "outputId": "5e4b9cb3-9c88-4f7f-e843-78ebaa057a5c"
      },
      "source": [
        "mt,mr"
      ],
      "execution_count": null,
      "outputs": [
        {
          "output_type": "execute_result",
          "data": {
            "text/plain": [
              "(84, 80)"
            ]
          },
          "metadata": {
            "tags": []
          },
          "execution_count": 15
        }
      ]
    },
    {
      "cell_type": "code",
      "metadata": {
        "id": "gWev6qGUQwMx"
      },
      "source": [
        "def thres(nt,nr,M):\n",
        "  x=0\n",
        "  y=0\n",
        "  for i in nt:\n",
        "    x+=len(i)\n",
        "  for i in nr:\n",
        "    y+=len(i)\n",
        "  return min(x//M,y//M)\n"
      ],
      "execution_count": null,
      "outputs": []
    },
    {
      "cell_type": "code",
      "metadata": {
        "id": "L3vEiGb1Xwrs"
      },
      "source": [
        "def defthreshold(C):\n",
        "  m=0\n",
        "  for i in C:\n",
        "    m+=len(i)\n",
        "  return m\n"
      ],
      "execution_count": null,
      "outputs": []
    },
    {
      "cell_type": "code",
      "metadata": {
        "id": "xSm2dWLQZP4Z"
      },
      "source": [
        "def generateflags(Ft,nt,C):\n",
        "  for i in range(len(nt)):\n",
        "    if nt[i] in C:\n",
        "      Ft[i]=True\n",
        "  return Ft"
      ],
      "execution_count": null,
      "outputs": []
    },
    {
      "cell_type": "code",
      "metadata": {
        "id": "gHS9aSezbh0H"
      },
      "source": [
        "def findIsolatedFalse(nt,Ft):\n",
        "  for i in range(len(Ft)-2):\n",
        "    x=Ft[i:i+3]\n",
        "    if x[1]==False and x[0] ==True and x[2]==True:\n",
        "      x[1]=True\n",
        "      Ft[i:i+3] = x\n",
        "      nt[i+1]='#'\n",
        "  \n",
        "  return nt,Ft\n"
      ],
      "execution_count": null,
      "outputs": []
    },
    {
      "cell_type": "code",
      "metadata": {
        "id": "uVUkKOx_PUqP"
      },
      "source": [
        "Ft = [False]*len(nt)\n",
        "Fr = [False]*len(nr)\n",
        "Ft = generateflags(Ft,nt,shared)\n",
        "Fr = generateflags(Fr,nr,shared)\n"
      ],
      "execution_count": null,
      "outputs": []
    },
    {
      "cell_type": "code",
      "metadata": {
        "colab": {
          "base_uri": "https://localhost:8080/"
        },
        "id": "qGqhPoeVSTU7",
        "outputId": "7e65a51c-7d19-4b05-899d-519cd2c6d645"
      },
      "source": [
        "Ft,Fr"
      ],
      "execution_count": null,
      "outputs": [
        {
          "output_type": "execute_result",
          "data": {
            "text/plain": [
              "([False,\n",
              "  False,\n",
              "  True,\n",
              "  False,\n",
              "  True,\n",
              "  False,\n",
              "  False,\n",
              "  True,\n",
              "  True,\n",
              "  True,\n",
              "  False,\n",
              "  True,\n",
              "  False,\n",
              "  True,\n",
              "  True,\n",
              "  True,\n",
              "  True,\n",
              "  True,\n",
              "  False,\n",
              "  True],\n",
              " [True, True, True, True, True, True, True, True, True, True, False, True])"
            ]
          },
          "metadata": {
            "tags": []
          },
          "execution_count": 21
        }
      ]
    },
    {
      "cell_type": "code",
      "metadata": {
        "id": "Gacls4aWSPX3"
      },
      "source": [
        "nt,Ft = findIsolatedFalse(nt,Ft)\n",
        "nr,Fr = findIsolatedFalse(nr,Fr)"
      ],
      "execution_count": null,
      "outputs": []
    },
    {
      "cell_type": "code",
      "metadata": {
        "colab": {
          "base_uri": "https://localhost:8080/"
        },
        "id": "LxGzg_gKPdLN",
        "outputId": "747dcaf1-ea39-4674-f444-1675fe18c74c"
      },
      "source": [
        "nt,Ft"
      ],
      "execution_count": null,
      "outputs": [
        {
          "output_type": "execute_result",
          "data": {
            "text/plain": [
              "(['t',\n",
              "  'lot',\n",
              "  'space',\n",
              "  '#',\n",
              "  'beds',\n",
              "  'option',\n",
              "  'Gardening',\n",
              "  'beds',\n",
              "  'way',\n",
              "  'productivity',\n",
              "  '#',\n",
              "  'investment',\n",
              "  '#',\n",
              "  'materials',\n",
              "  'beds',\n",
              "  'soil',\n",
              "  'compost',\n",
              "  'investment',\n",
              "  '#',\n",
              "  'productivity'],\n",
              " [False,\n",
              "  False,\n",
              "  True,\n",
              "  True,\n",
              "  True,\n",
              "  False,\n",
              "  False,\n",
              "  True,\n",
              "  True,\n",
              "  True,\n",
              "  True,\n",
              "  True,\n",
              "  True,\n",
              "  True,\n",
              "  True,\n",
              "  True,\n",
              "  True,\n",
              "  True,\n",
              "  True,\n",
              "  True])"
            ]
          },
          "metadata": {
            "tags": []
          },
          "execution_count": 23
        }
      ]
    },
    {
      "cell_type": "code",
      "metadata": {
        "colab": {
          "base_uri": "https://localhost:8080/"
        },
        "id": "jlXszbrIPgEy",
        "outputId": "483d2965-d26d-401b-a691-7b347564e992"
      },
      "source": [
        "nr,Fr"
      ],
      "execution_count": null,
      "outputs": [
        {
          "output_type": "execute_result",
          "data": {
            "text/plain": [
              "(['beds',\n",
              "  'way',\n",
              "  'productivity',\n",
              "  'space',\n",
              "  'investment',\n",
              "  'materials',\n",
              "  'beds',\n",
              "  'soil',\n",
              "  'compost',\n",
              "  'investment',\n",
              "  '#',\n",
              "  'productivity'],\n",
              " [True, True, True, True, True, True, True, True, True, True, True, True])"
            ]
          },
          "metadata": {
            "tags": []
          },
          "execution_count": 24
        }
      ]
    },
    {
      "cell_type": "code",
      "metadata": {
        "id": "ndEFVHJFnAmu"
      },
      "source": [
        "def compress(nr,Fr,M):\n",
        "  x=0\n",
        "  nr_hat=[]\n",
        "  while(x< len(Fr)):\n",
        "    if (Fr[x]==False and x==0):\n",
        "      for j in range(x+1, len(Fr)):\n",
        "        if(Fr[j]==False):\n",
        "          x = j\n",
        "    elif (Fr[x]==True):\n",
        "      nr_hat.append(nr[x])\n",
        "    elif (Fr[x]==False):\n",
        "      for j in range(x+1, len(Fr)):\n",
        "        if(Fr[j]==False):\n",
        "          x = j\n",
        "      nr_hat.append(\" \")\n",
        "    x = x+1\n",
        "  \n",
        "  return nr_hat"
      ],
      "execution_count": null,
      "outputs": []
    },
    {
      "cell_type": "code",
      "metadata": {
        "id": "IJz1IO_aJRDY"
      },
      "source": [
        "def removeContinuoustrue(nr,Fr,M):\n",
        "  x=0\n",
        "  pp = 0\n",
        "  i = 0\n",
        "  while(i<len(Fr)):\n",
        "    if Fr[i]==True:\n",
        "      x=0\n",
        "      x = x+len(nr[i])\n",
        "      for j in range(i+1,len(Fr)):\n",
        "        if Fr[j]==True:\n",
        "          #print(j)\n",
        "          x = x+ len(nr[j])\n",
        "          pp = j\n",
        "        else:\n",
        "          break\n",
        "      \n",
        "      if (pp==len(Fr)-1):\n",
        "        break\n",
        "      if (x<M):\n",
        "        #print(i, pp)\n",
        "        for k in range(i,pp+1):\n",
        "          Fr[k]=False\n",
        "        i = pp\n",
        "    i = i+1\n",
        "\n",
        "  return Fr, nr"
      ],
      "execution_count": null,
      "outputs": []
    },
    {
      "cell_type": "code",
      "metadata": {
        "id": "dVbPEy2xpYYW"
      },
      "source": [
        "def compare(nr_hat,nt_hat,threshold):\n",
        "  plagText=[]\n",
        "  for i in range(0,len(nr_hat)+1):\n",
        "    x = len(nr_hat)-i\n",
        "    y = 0\n",
        "    res = np.ones(i) * -1\n",
        "    while(x<len(nr_hat) and y<i and y<len(nt_hat)):\n",
        "      if(nr_hat[x]=='#' and nt_hat[y]=='#'):\n",
        "        res[y]= 0\n",
        "      elif (nr_hat[x]=='#'):\n",
        "        res[y] = len(nt_hat[y])\n",
        "      elif (nt_hat[y] =='#'):\n",
        "        res[y] = len(nr_hat[x])\n",
        "      elif (nr_hat[x]==nt_hat[y]):\n",
        "        res[y] = len(nr_hat[x])\n",
        "      \n",
        "      y +=1\n",
        "      x +=1\n",
        "    \n",
        "    x=0\n",
        "    while x<len(res):\n",
        "      start = -1\n",
        "      end = -1\n",
        "      temp=0\n",
        "      if res[x] >=0 :\n",
        "        start = x\n",
        "        end=x\n",
        "        temp+=res[x]\n",
        "\n",
        "        for k in range(x+1,len(res)):\n",
        "          if res[k]>=0 :\n",
        "            temp+=res[k]\n",
        "            end=k\n",
        "          else :\n",
        "            x=k\n",
        "            break\n",
        "      if temp> threshold :\n",
        "        plagText.append([nr_hat[start:end],temp])\n",
        "\n",
        "      x+=1\n",
        "\n",
        "  return plagText \n"
      ],
      "execution_count": null,
      "outputs": []
    },
    {
      "cell_type": "code",
      "metadata": {
        "id": "onYKdye6RUmv"
      },
      "source": [
        "def plagRate(l,l0):\n",
        "  rate = (l-l0)/l\n",
        "  return rate"
      ],
      "execution_count": null,
      "outputs": []
    },
    {
      "cell_type": "code",
      "metadata": {
        "id": "evKlJujTRw4G"
      },
      "source": [
        "def detectSimilarity(target,references):\n",
        "  nt = findNouns(target)\n",
        "  nr = findNouns(references)\n",
        "  shared = sharedWords(nt,nr)\n",
        "  mt = findsharedAmount(nt,shared) \n",
        "  mr = findsharedAmount(nr,shared)\n",
        "  threshold = defthreshold(shared)\n",
        "  threshold = thres(nt,nr,threshold)\n",
        "  check= mt>=threshold or mr >=threshold\n",
        "  print(check)\n",
        "\n",
        "  Ft = [False]*len(nt)\n",
        "  Fr = [False]*len(nr)\n",
        "\n",
        "  Ft = generateflags(Ft,nt,shared)\n",
        "  Fr = generateflags(Fr,nr,shared)\n",
        "\n",
        "  nt,Ft = findIsolatedFalse(nt,Ft)\n",
        "  nr,Fr = findIsolatedFalse(nr,Fr)\n",
        "\n",
        "  Fr1,nr_hat = removeContinuoustrue(nr.copy(),Fr.copy(),threshold)\n",
        "  Ft1,nt_hat = removeContinuoustrue(nt.copy(),Ft.copy(),threshold)\n",
        "\n",
        "  nr_hat = compress(nr_hat,Fr1,threshold)\n",
        "  nt_hat = compress(nt_hat,Ft1,threshold)\n",
        "  #print(len(nr),len(nr_hat))\n",
        "\n",
        "  plagiarised = compare(nr_hat, nt_hat, threshold)\n",
        "  #print(plagiarised)\n",
        "\n",
        "  psets = set()\n",
        "  for i in range(0, len(plagiarised)):\n",
        "    psets = psets.union(set(plagiarised[i][0]))\n",
        "\n",
        "  difference = set(nt_hat).difference(psets)\n",
        "  print(\"Plagiarism can be found at/around these section of words--> {}\".format(psets))\n",
        "  print(\"Plagiarism Rate : \")\n",
        "  l0 = 0 \n",
        "  l = 0\n",
        "  for i in nt_hat:\n",
        "    l = l + len(i)\n",
        "  for i in difference:\n",
        "    l0 = l0 + len(i)\n",
        "  return plagRate(l,l0)"
      ],
      "execution_count": null,
      "outputs": []
    },
    {
      "cell_type": "code",
      "metadata": {
        "colab": {
          "base_uri": "https://localhost:8080/"
        },
        "id": "S2Ebn9lHR2x2",
        "outputId": "331f592a-cf44-45d0-bfc8-b66686dfd833"
      },
      "source": [
        "detectSimilarity(target,references)"
      ],
      "execution_count": null,
      "outputs": [
        {
          "output_type": "stream",
          "text": [
            "True\n",
            "Plagiarism can be found at/around these section of words--> {'#', 'productivity', 'soil', 'beds', 'compost', 'investment', 'way', 'materials'}\n",
            "Plagiarism Rate : \n"
          ],
          "name": "stdout"
        },
        {
          "output_type": "execute_result",
          "data": {
            "text/plain": [
              "0.9382716049382716"
            ]
          },
          "metadata": {
            "tags": []
          },
          "execution_count": 36
        }
      ]
    },
    {
      "cell_type": "code",
      "metadata": {
        "id": "2VWthhvLSa-n",
        "colab": {
          "base_uri": "https://localhost:8080/"
        },
        "outputId": "c29b570c-aef2-4296-a996-36149b1abfaa"
      },
      "source": [
        "detectSimilarity(original,plag)"
      ],
      "execution_count": null,
      "outputs": [
        {
          "output_type": "stream",
          "text": [
            "True\n",
            "Plagiarism can be found at/around these section of words--> {'specialty', 'system', 'family', 'bankruptcy', 'courts', 'law'}\n",
            "Plagiarism Rate : \n"
          ],
          "name": "stdout"
        },
        {
          "output_type": "execute_result",
          "data": {
            "text/plain": [
              "0.7428571428571429"
            ]
          },
          "metadata": {
            "tags": []
          },
          "execution_count": 35
        }
      ]
    },
    {
      "cell_type": "code",
      "metadata": {
        "colab": {
          "base_uri": "https://localhost:8080/"
        },
        "id": "_ozZCagdcLmr",
        "outputId": "6e191100-4575-4d2e-87ab-32b90ccf023c"
      },
      "source": [
        "detectSimilarity(original,original)"
      ],
      "execution_count": null,
      "outputs": [
        {
          "output_type": "stream",
          "text": [
            "True\n",
            "Plagiarism can be found at/around these section of words--> {'specialty', 'family', 'courts', 'refers', 'types', 'authority', 'system', 'jurisdiction', 'Jurisdiction', 'law', 'offense', 'case', 'type', 'cases', 'instance', 'drug', 'court', 'situations', 'state', 'bankruptcy'}\n",
            "Plagiarism Rate : \n"
          ],
          "name": "stdout"
        },
        {
          "output_type": "execute_result",
          "data": {
            "text/plain": [
              "0.9826839826839827"
            ]
          },
          "metadata": {
            "tags": []
          },
          "execution_count": 32
        }
      ]
    },
    {
      "cell_type": "markdown",
      "metadata": {
        "id": "c29F5-J8xXPb"
      },
      "source": [
        "\n",
        "Report can be found at https://docs.google.com/document/d/1_1Sg4aT-idC1Z0g7Fv0jwH1dObcdolt1HqijlibvcLY/edit?usp=sharing"
      ]
    }
  ]
}